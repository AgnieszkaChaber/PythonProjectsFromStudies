{
 "cells": [
  {
   "attachments": {},
   "cell_type": "markdown",
   "id": "d40df093",
   "metadata": {},
   "source": [
    "\n",
    "Poniżej kolejno przedstawiono funkcje, która:"
   ]
  },
  {
   "attachments": {},
   "cell_type": "markdown",
   "id": "fb204c4e",
   "metadata": {},
   "source": [
    "1. dla pobranych z klawiatury dwóch liczb zwróci ich iloczyn."
   ]
  },
  {
   "cell_type": "code",
   "execution_count": null,
   "id": "ee538364",
   "metadata": {},
   "outputs": [],
   "source": [
    "def iloczyn(x, y):\n",
    "    return x*y\n",
    "    \n",
    "a = int(input(\"Podaj pierwszą liczbę:\"))\n",
    "b = int(input(\"Podaj drugą liczbę:\"))\n",
    "print(\"Iloczyn tych dwóch liczb to\", iloczyn(a,b))"
   ]
  },
  {
   "attachments": {},
   "cell_type": "markdown",
   "id": "a714a3e9",
   "metadata": {},
   "source": [
    "2. sprawdzi, czy podana liczba jest parzysta."
   ]
  },
  {
   "cell_type": "code",
   "execution_count": null,
   "id": "753c7037",
   "metadata": {},
   "outputs": [],
   "source": [
    "def czyParzysta(x):\n",
    "    if x % 2 == 0: \n",
    "        print(x, \"to liczba parzysta\")\n",
    "    else: \n",
    "        print(x,\"to liczba nieparzysta\")\n",
    "\n",
    "a = int(input(\"Ten program sprawdza, czy liczba jest parzysta. Podaj liczbę: \"))\n",
    "czyParzysta(a)"
   ]
  },
  {
   "attachments": {},
   "cell_type": "markdown",
   "id": "1f4cfd30",
   "metadata": {},
   "source": [
    "3. obliczy sumę kwadratów kolejnych liczb naturalnych mniejszych od zadanej wartości."
   ]
  },
  {
   "cell_type": "code",
   "execution_count": null,
   "id": "4c1e8167",
   "metadata": {},
   "outputs": [],
   "source": [
    "def sumaKwadratow(a):\n",
    "    if a>=0:\n",
    "        sum=0\n",
    "        for i in range(a):\n",
    "            b=i**2\n",
    "            sum=sum+b\n",
    "        print (\"Suma kwadratów liczb naturalnych mniejszych od\", a, \"wynosi\", sum)\n",
    "    else: \n",
    "        print(\"Liczba a nie jest liczbą naturalną\")\n",
    "\n",
    "x=int(input(\"Podaj liczbę naturalną:\"))\n",
    "sumaKwadratow(x)"
   ]
  },
  {
   "attachments": {},
   "cell_type": "markdown",
   "id": "3d465797",
   "metadata": {},
   "source": [
    "4. sprawdzi, czy podana liczba jest pierwsza"
   ]
  },
  {
   "cell_type": "code",
   "execution_count": null,
   "id": "40b2bcd9",
   "metadata": {},
   "outputs": [],
   "source": [
    "def czyPierwsza(x): \n",
    "    if x<2:\n",
    "        print(\"Liczba\", x, \"nie jest liczbą pierwszą\")\n",
    "    elif x==2:\n",
    "        print(\"Liczba\", x, \"jest liczbą pierwszą\")\n",
    "    else:\n",
    "        dzielniki = []\n",
    "        for i in range(1, (x+1)):\n",
    "            if x % i == 0: \n",
    "                dzielniki.append(i)\n",
    "        if len(dzielniki)>2:\n",
    "            print(\"Liczba\", x, \"nie jest liczbą pierwszą\")\n",
    "        else:\n",
    "            print(\"Liczba\", x, \"jest liczbą pierwszą\")\n",
    " \n",
    "a=int(input(\"Podaj liczbę: \"))\n",
    "czyPierwsza(a)"
   ]
  },
  {
   "attachments": {},
   "cell_type": "markdown",
   "id": "de288160",
   "metadata": {},
   "source": [
    "5. znajdzie dzielniki podanej liczby."
   ]
  },
  {
   "cell_type": "code",
   "execution_count": null,
   "id": "d35cc257",
   "metadata": {},
   "outputs": [],
   "source": [
    "def dzielniki(x): \n",
    "    print(\"Dzielniki liczby\", x, \"to:\")\n",
    "    for i in range(1, int(x/2) + 1):\n",
    "        if x % i == 0: \n",
    "            print(str(i) + \" \")\n",
    "    print(x)\n",
    "\n",
    "a = int(input(\"Podaj liczbę: \"))\n",
    "dzielniki(a)"
   ]
  },
  {
   "attachments": {},
   "cell_type": "markdown",
   "id": "5bd31dd4",
   "metadata": {},
   "source": [
    "6. zwróci rozkład zadanej liczby na dzielniki pierwsze."
   ]
  },
  {
   "cell_type": "code",
   "execution_count": null,
   "id": "56589e3b",
   "metadata": {},
   "outputs": [],
   "source": [
    "def dzielPierw(x):\n",
    "    dzielniki = []\n",
    "    i = 2\n",
    "    while x != 1:\n",
    "        while x % i == 0:\n",
    "            x //= i\n",
    "            dzielniki.append(i)\n",
    "        i += 1\n",
    "    return dzielniki\n",
    " \n",
    "a=int(input(\"Podaj liczbę: \"))\n",
    "print(\"Dzielniki pierwsze: \", dzielPierw(a))"
   ]
  },
  {
   "attachments": {},
   "cell_type": "markdown",
   "id": "4adefbfb",
   "metadata": {},
   "source": [
    "7. znajdzie najmniejszą wspólna wielokrotność podanych dwóch liczb"
   ]
  },
  {
   "cell_type": "code",
   "execution_count": null,
   "id": "307a25a4",
   "metadata": {},
   "outputs": [],
   "source": [
    "def nww(x, y):\n",
    "    z=x*y\n",
    "    while x!=y:\n",
    "        if x>y:\n",
    "            x=x-y\n",
    "        else:\n",
    "            y=y-x\n",
    "    wielokrotnosc=z/x\n",
    "    print(\"Najmniejszą wspólna wielokrotnością podanych liczb jest \", wielokrotnosc)\n",
    "    \n",
    "        \n",
    "a=int(input(\"Podaj pierwszą liczbę: \"))\n",
    "b=int(input(\"Podaj drugą liczbę: \"))\n",
    "nww(a, b)"
   ]
  },
  {
   "attachments": {},
   "cell_type": "markdown",
   "id": "a50d7e16",
   "metadata": {},
   "source": [
    "8. przedstawi zadaną liczbę w postaci binarnej."
   ]
  },
  {
   "cell_type": "code",
   "execution_count": null,
   "id": "c4844d3f",
   "metadata": {},
   "outputs": [],
   "source": [
    "def decToBin(x):\n",
    "   binary=(bin(x))\n",
    "   print(binary[2:])\n",
    "       \n",
    "decToBin(2389)"
   ]
  },
  {
   "attachments": {},
   "cell_type": "markdown",
   "id": "627692e3",
   "metadata": {},
   "source": [
    "9. dla zadanych wartości współczynników trójmianu kwadratowego znajdzie jego miejsca zerowe"
   ]
  },
  {
   "cell_type": "code",
   "execution_count": null,
   "id": "36cbd706",
   "metadata": {},
   "outputs": [],
   "source": [
    "import math\n",
    "\n",
    "def wspTrojmianu(x,y,z):\n",
    "    print (\"Ten program wyznacza wartości współczynników trójmianu kwadratowego y=\",x,\"x^2\",\"+\",y,\"x+\",z)\n",
    "    if x==0:\n",
    "        print(\"To nie jest trójmian kwadratowy\")\n",
    "    else:\n",
    "        delta=b**2 - 4*a*c\n",
    "        if delta > 0:\n",
    "            x1=((-1)*b+(math.sqrt(delta)))/(2*a)\n",
    "            x2=((-1)*b-(math.sqrt(delta)))/(2*a)\n",
    "            print (\"Miejsca zerowe tego trójmianu kwadratowego to x1=\", x1, \", x2=\", x2)\n",
    "        elif delta==0:\n",
    "            x0=((-1)*b)/(2*a)\n",
    "            print (\"Miejsce zerowe tego trójmianu kwadratowego to x=\", x0)\n",
    "        else:\n",
    "            print (\"Ten trójmian kwadratowy nie ma rozwiązania w zbiorze liczb rzeczywistych \")\n",
    "    \n",
    "a=int(input(\"Podaj wartość współczynnika a:\"))\n",
    "b=int(input(\"Podaj wartość współczynnika b:\"))\n",
    "c=int(input(\"Podaj wartość współczynnika c:\"))\n",
    "wspTrojmianu(a,b,c)"
   ]
  },
  {
   "attachments": {},
   "cell_type": "markdown",
   "id": "212978b9",
   "metadata": {},
   "source": [
    "10. dla danego n obliczy n! . Podaj różne rozwiązania tego problemu"
   ]
  },
  {
   "cell_type": "code",
   "execution_count": null,
   "id": "21d296e4",
   "metadata": {},
   "outputs": [],
   "source": [
    "def silnia(x):\n",
    "    result=1\n",
    "    for i in range (1, x+1):\n",
    "        result*=i\n",
    "    return result\n",
    "\n",
    "n=int(input(\"Podaj wartość współczynnika n: \"))\n",
    "print (\"n! wynosi: \", silnia(n))"
   ]
  },
  {
   "cell_type": "code",
   "execution_count": null,
   "id": "04868a90",
   "metadata": {},
   "outputs": [],
   "source": [
    "def silnia(x):\n",
    "    if x==0:\n",
    "        return 1\n",
    "    else:\n",
    "        return x*silnia(x-1)\n",
    "    \n",
    "n=int(input(\"Podaj wartość współczynnika n: \"))\n",
    "print (\"n! wynosi: \", silnia(n))"
   ]
  },
  {
   "attachments": {},
   "cell_type": "markdown",
   "id": "449ee60e",
   "metadata": {},
   "source": [
    "11. oblicza n-tą liczbę Fibonacciego (n duże)."
   ]
  },
  {
   "cell_type": "code",
   "execution_count": null,
   "id": "85553f10",
   "metadata": {},
   "outputs": [],
   "source": [
    "def fibbonacci(n):\n",
    "    if n not in {0,1}:\n",
    "        return fibbonacci(n-1)+fibbonacci(n-2)\n",
    "    else:\n",
    "        return n\n",
    "\n",
    "x=int(input(\"Podaj, którą liczbę ciągu Fibbonacciego chcesz obliczyć: \"))\n",
    "print (\"Ta liczba ciągu Fibonacciego wynosi: \", fibbonacci(x))"
   ]
  },
  {
   "attachments": {},
   "cell_type": "markdown",
   "id": "c57b9f65",
   "metadata": {},
   "source": [
    "12. dla dowolnej ilości argumentów zwróci ich skumulowane sumy częściowe."
   ]
  },
  {
   "cell_type": "code",
   "execution_count": null,
   "id": "e1d66936",
   "metadata": {},
   "outputs": [],
   "source": [
    "import numpy\n",
    "def partSum(x):\n",
    "    y = numpy.array(x)\n",
    "    z = numpy.cumsum(y)\n",
    "    return list(z)\n",
    "\n",
    "a = list(map(int, input(\"Podaj argumenty(enter zakończy wprowadzanie):\").split()))\n",
    "print(\"Skumulowane sumy częściowe dla a=\", a, \"to\", partSum(a))"
   ]
  },
  {
   "attachments": {},
   "cell_type": "markdown",
   "id": "39ec52de",
   "metadata": {},
   "source": [
    "13. dla dowolnej ilości argumentów liczbowych zwróci ich średnią arytmetyczną."
   ]
  },
  {
   "cell_type": "code",
   "execution_count": null,
   "id": "236abaec",
   "metadata": {},
   "outputs": [],
   "source": [
    "def srednia(x):\n",
    "    suma=0\n",
    "    for i in x:\n",
    "        suma+=i\n",
    "    srednia=suma/len(x)\n",
    "    return srednia\n",
    "\n",
    "\n",
    "a = list(map(int, input(\"Podaj argumenty do wyznaczenia średniej arytmetycznej (enter zakończy wprowadzanie):\").split()))\n",
    "print(\"Średnia arytmetyczna wprowadzonych argumentów wynosi:\", srednia(a))"
   ]
  },
  {
   "attachments": {},
   "cell_type": "markdown",
   "id": "918b04f1",
   "metadata": {},
   "source": [
    "14. dla zadanego łańcucha znaków zwróci łańcuch ze znakami w odwrotnej kolejności."
   ]
  },
  {
   "cell_type": "code",
   "execution_count": null,
   "id": "a5ee6ec4",
   "metadata": {},
   "outputs": [],
   "source": [
    "def reverse(text):\n",
    "  reverseText=text[::-1]\n",
    "  print(reverseText)\n",
    "\n",
    "example=\"Tak wygląda łańcuch ze znakami w odwrotnej kolejności\"\n",
    "reverse(example)"
   ]
  },
  {
   "attachments": {},
   "cell_type": "markdown",
   "id": "8210c754",
   "metadata": {},
   "source": [
    "15. dla danego łańcucha znaków zwróci informację ile jest w nim dużych, a ile małych liter"
   ]
  },
  {
   "cell_type": "code",
   "execution_count": null,
   "id": "6043c02e",
   "metadata": {},
   "outputs": [],
   "source": [
    "import re\n",
    "def letterCount(text):\n",
    "    countBig=len(re.findall(r'[A-Z]',text))\n",
    "    countSmall=len(re.findall(r'[a-z]',text))\n",
    "    print(\"Liczba dużych liter w tekście:\", countBig, \"\\nLiczba małych liter w tekście:\", countSmall)\n",
    "\n",
    "material=input(\"Wpisz tekst:\")\n",
    "letterCount(material)"
   ]
  },
  {
   "attachments": {},
   "cell_type": "markdown",
   "id": "e2ddcf9e",
   "metadata": {},
   "source": [
    "16. dla danej tablicy zwróci tablicę z jej unikalnymi elementami."
   ]
  },
  {
   "cell_type": "code",
   "execution_count": null,
   "id": "d85299f6",
   "metadata": {},
   "outputs": [],
   "source": [
    "def unikalne(lista):\n",
    "    listaUnikalnych = []\n",
    "    for i in lista:\n",
    "        if i not in listaUnikalnych:\n",
    "            listaUnikalnych.append(i)\n",
    "    return(listaUnikalnych)\n",
    "    \n",
    "\n",
    "a = [10, 20, 10, 30, 40, 40, 10, 15]\n",
    "unikalne(a)"
   ]
  },
  {
   "attachments": {},
   "cell_type": "markdown",
   "id": "6acfe4a4",
   "metadata": {},
   "source": [
    "17. dla zadanego łańcucha znaków zwróci słownik ze statystykami na temat częstości występowania poszczególnych znaków."
   ]
  },
  {
   "cell_type": "code",
   "execution_count": null,
   "id": "43c6ffbe",
   "metadata": {},
   "outputs": [],
   "source": [
    "def statistics(x):\n",
    "    list = [*x]\n",
    "    dictionery={}\n",
    "    for i  in x:\n",
    "        if i not in list:\n",
    "            list.append(i)\n",
    "        else:\n",
    "            list.index(i)\n",
    "    for i in list:\n",
    "        dictionery[i] = x.count(i)\n",
    "    print(dictionery)\n",
    "\n",
    "statistics('monachomachia')"
   ]
  },
  {
   "attachments": {},
   "cell_type": "markdown",
   "id": "e4c26059",
   "metadata": {},
   "source": [
    "18. dla zadanego stringa zwróci liste słów, na które można go podzielić"
   ]
  },
  {
   "cell_type": "code",
   "execution_count": null,
   "id": "a308a4b8",
   "metadata": {},
   "outputs": [],
   "source": [
    "def textDivide(text):\n",
    "    divided=(text.split(\" \"))\n",
    "    print(divided)\n",
    "\n",
    "example=(\"Przykładowa lista słów\")\n",
    "textDivide(example)"
   ]
  },
  {
   "attachments": {},
   "cell_type": "markdown",
   "id": "f8cee5f1",
   "metadata": {},
   "source": [
    "19. dla zadanego string zwróci jego postać w notacji wielbłądziej, np. dla ”ala ma pythona” otrzymamy ’alaMaPythona’"
   ]
  },
  {
   "cell_type": "code",
   "execution_count": null,
   "id": "80d2937d",
   "metadata": {},
   "outputs": [],
   "source": [
    "def camelCase(text):\n",
    "    a=x.title()\n",
    "    b=a.replace(\" \", \"\")\n",
    "    c=b[0].lower()+b[1:]\n",
    "    print(c)\n",
    "\n",
    "camelCase('ala ma pythona')"
   ]
  },
  {
   "attachments": {},
   "cell_type": "markdown",
   "id": "4a859fae",
   "metadata": {},
   "source": [
    "20. dla stringa w postaci wielbłądziej zwróci jego postać ”normalną”, np. dla ’alaMaPythona’ otrzymamy ”ala ma pythona”"
   ]
  },
  {
   "cell_type": "code",
   "execution_count": null,
   "id": "fa061a6e",
   "metadata": {},
   "outputs": [],
   "source": [
    "def normalCase(text):\n",
    "    simple=''.join([' '+i.lower() if i.isupper() else i for i in text])\n",
    "    normal =x.lstrip(' ')\n",
    "    print (normal)\n",
    "\n",
    "normalCase('alaMaPythona')"
   ]
  },
  {
   "attachments": {},
   "cell_type": "markdown",
   "id": "8077acee",
   "metadata": {},
   "source": [
    "21. zgodnie z metodą babilońską obliczy przybliżenie pierwiastka kwadratowego danej liczby."
   ]
  },
  {
   "cell_type": "code",
   "execution_count": null,
   "id": "5aee1d27",
   "metadata": {},
   "outputs": [],
   "source": [
    "def approxPow(n):\n",
    "    tolerance=0.000001\n",
    "    old=1.0\n",
    "    new=0.5*(1+n)\n",
    "    while abs(new-old)>tolerance:\n",
    "        old=new\n",
    "        new=0.5*(new+n/new)\n",
    "    return(new)\n",
    "\n",
    "example=float(input(\"Podaj liczbę:\"))\n",
    "print(approxPow(example))"
   ]
  },
  {
   "attachments": {},
   "cell_type": "markdown",
   "id": "368adb5d",
   "metadata": {},
   "source": [
    "22. przybliża wartość π (metoda Monte-Carlo)."
   ]
  },
  {
   "cell_type": "code",
   "execution_count": null,
   "id": "072e9e5a",
   "metadata": {},
   "outputs": [],
   "source": [
    "import random\n",
    "\n",
    "def approxPi(n):\n",
    "    points=0\n",
    "    for i in range(n):\n",
    "        x=random.uniform(-1,1)\n",
    "        y=random.uniform(-1,1)\n",
    "        if (pow(x,2)+pow(y,2) <= 1):\n",
    "            points+=1\n",
    "    pi=4*points/n\n",
    "    return pi \n",
    "\n",
    "print (\"Wartość liczby pi przybliżona metodą Monte-Carlo wynosi:\", approxPi(500000))"
   ]
  },
  {
   "attachments": {},
   "cell_type": "markdown",
   "id": "9f0af815",
   "metadata": {},
   "source": [
    "23. dla list a = [1, 2, 3] i b = [4, 5, 6] zwróci wynik c = [(1, 4),(2, 5),(3, 6)]."
   ]
  },
  {
   "cell_type": "code",
   "execution_count": null,
   "id": "74896223",
   "metadata": {},
   "outputs": [],
   "source": [
    "def double(k, l):\n",
    "    c=[]\n",
    "    for i,j in enumerate(a):\n",
    "        c.append((k[i],l[i]))\n",
    "    print(\"c=\", c)   \n",
    "\n",
    "a=[1,2,3]\n",
    "b=[4,5,6]\n",
    "double(a, b)"
   ]
  },
  {
   "attachments": {},
   "cell_type": "markdown",
   "id": "f07d2213",
   "metadata": {},
   "source": [
    "24. dla zakresu liczb range(100) zwróci listę wartości, które są podzielne przez 3 i niepodzielne przez 5."
   ]
  },
  {
   "cell_type": "code",
   "execution_count": null,
   "id": "e2602280",
   "metadata": {},
   "outputs": [],
   "source": [
    "def podzielne(n):\n",
    "    lista=[]\n",
    "    for i in range(n):\n",
    "        if (i%3==0 and i%5!=0):\n",
    "            lista.append(i)\n",
    "    return(lista)\n",
    "\n",
    "print(\"Lista wartości podzielnych przez 3 i niepodzielnych przez 5 dla zakresu liczb range(100):\", podzielne(100))"
   ]
  }
 ],
 "metadata": {
  "kernelspec": {
   "display_name": "Python 3 (ipykernel)",
   "language": "python",
   "name": "python3"
  },
  "language_info": {
   "codemirror_mode": {
    "name": "ipython",
    "version": 3
   },
   "file_extension": ".py",
   "mimetype": "text/x-python",
   "name": "python",
   "nbconvert_exporter": "python",
   "pygments_lexer": "ipython3",
   "version": "3.10.9"
  }
 },
 "nbformat": 4,
 "nbformat_minor": 5
}
