{
 "cells": [
  {
   "attachments": {},
   "cell_type": "markdown",
   "metadata": {},
   "source": [
    "Rozwiązania zadań z zajęć drugich"
   ]
  },
  {
   "attachments": {},
   "cell_type": "markdown",
   "metadata": {},
   "source": [
    "Zadanie 1\n",
    "1. Napisz klasę Talia, która będzie zawierać inną klasę - klasę Karta, która spełnia następujące wymagania:\n",
    "• rodzaj (Kier, Karo, Trefl, Pik)\n",
    "• wartość (A,2,3,4,5,6,7,8,9,10,J,Q,K)\n",
    "2. Dodaj metody:\n",
    "• rozdaj, aby pobrać pojedynczą kartę z talii - karta po rozdaniu usuwana jest z talii\n",
    "• przetasuj, która zapewnia że Talia składa się z 52 kart i ustawia je w sposób losowy"
   ]
  },
  {
   "cell_type": "code",
   "execution_count": 31,
   "metadata": {},
   "outputs": [
    {
     "name": "stdout",
     "output_type": "stream",
     "text": [
      "\n",
      "Utworzyłem nową talię.\n",
      "Talia:\n",
      "AKaro  2Karo  3Karo  4Karo  5Karo  6Karo  7Karo  8Karo  9Karo  10Karo  JKaro  QKaro  KKaro  AKier  2Kier  3Kier  4Kier  5Kier  6Kier  7Kier  8Kier  9Kier  10Kier  JKier  QKier  KKier  ATrefl  2Trefl  3Trefl  4Trefl  5Trefl  6Trefl  7Trefl  8Trefl  9Trefl  10Trefl  JTrefl  QTrefl  KTrefl  APik  2Pik  3Pik  4Pik  5Pik  6Pik  7Pik  8Pik  9Pik  10Pik  JPik  QPik  KPik  \n",
      "\n",
      "Przetasowałem talię.\n",
      "Ilość kart w talii: 52\n",
      "JKaro  QKaro  8Trefl  4Pik  AKaro  8Pik  APik  2Kier  4Karo  QTrefl  JTrefl  8Karo  7Kier  5Karo  10Karo  9Karo  5Kier  3Trefl  KTrefl  9Kier  3Karo  JPik  5Pik  10Pik  9Trefl  JKier  10Kier  KKaro  7Trefl  3Pik  ATrefl  3Kier  7Karo  5Trefl  6Karo  2Pik  10Trefl  6Kier  AKier  6Trefl  6Pik  9Pik  2Trefl  KKier  2Karo  QKier  8Kier  KPik  7Pik  QPik  4Trefl  4Kier  \n",
      "\n",
      "Losowa karta:\n",
      "7Trefl\n",
      "\n",
      "Przetasowałem talię.\n",
      "Ilość kart w talii: 52\n",
      "5Karo  10Pik  8Kier  9Pik  QPik  9Trefl  8Trefl  JPik  5Trefl  7Kier  7Pik  JKaro  6Pik  5Pik  QTrefl  3Trefl  9Karo  10Kier  4Karo  6Trefl  JTrefl  2Kier  QKaro  3Pik  4Kier  2Karo  2Pik  APik  6Kier  5Kier  3Karo  QKier  9Kier  JKier  7Karo  KPik  KKier  2Trefl  KKaro  8Karo  4Pik  10Trefl  AKaro  4Trefl  6Karo  KTrefl  ATrefl  10Karo  3Kier  7Trefl  8Pik  AKier  \n"
     ]
    }
   ],
   "source": [
    "class Karta(object):\n",
    "    \"\"\"Karta do gry\"\"\"\n",
    "    WARTOŚCI=[\"A\", \"2\", \"3\", \"4\", \"5\", \"6\", \"7\", \"8\", \"9\", \"10\", \"J\", \"Q\", \"K\"]\n",
    "    RODZAJE=[\"Karo\", \"Kier\", \"Trefl\", \"Pik\"]\n",
    "\n",
    "    def __init__(self, wartość, rodzaj):\n",
    "        self.wartość=wartość\n",
    "        self.rodzaj=rodzaj\n",
    "   \n",
    "    def __str__(self):\n",
    "        rep = self.wartość + self.rodzaj\n",
    "        return rep\n",
    " \n",
    "class Talia:\n",
    "    \"\"\"Talia kart do gry\"\"\"\n",
    "\n",
    "    def __init__(self):\n",
    "        self.karty=[]\n",
    "\n",
    "    def __str__(self):\n",
    "        if self.karty:\n",
    "            rep = \"\"\n",
    "            for karta in self.karty:\n",
    "                rep+=str(karta)+ \"  \"\n",
    "        else:\n",
    "            rep = \"<pusta>\"\n",
    "        return rep\n",
    "       \n",
    "    def clear(self):\n",
    "        self.karty=[]\n",
    "\n",
    "    def add(self, karta):\n",
    "        self.karty.append(karta)\n",
    "\n",
    "    def rozdajwszystkie(self):\n",
    "        for rodzaj in Karta.RODZAJE:\n",
    "            for wartość in Karta.WARTOŚCI:\n",
    "                self.add(Karta(wartość, rodzaj))\n",
    "   \n",
    "    def przetasuj(self):\n",
    "        import random\n",
    "        licznik=0\n",
    "        for liczba in self.karty:\n",
    "            licznik+=1\n",
    "        if licznik==52:\n",
    "            print(\"Ilość kart w talii:\", licznik)\n",
    "        elif licznik < 52:\n",
    "            self.clear()\n",
    "            self.rozdajwszystkie()\n",
    "            licznik2=0\n",
    "            for liczba2 in self.karty:\n",
    "                licznik2+=1        \n",
    "            print(\"Ilość kart w talii:\", licznik2)\n",
    "        random.shuffle(self.karty)\n",
    "\n",
    "    def rozdaj(self):\n",
    "        import random\n",
    "        karta=random.choice(self.karty)\n",
    "        self.karty.remove(karta)\n",
    "        print(karta)\n",
    "\n",
    "\n",
    "Talia1 = Talia()\n",
    "Talia1.rozdajwszystkie()\n",
    "print(\"\\nUtworzyłem nową talię.\")\n",
    "print(\"Talia:\")\n",
    "print(Talia1)\n",
    "print(\"\\nPrzetasowałem talię.\")\n",
    "Talia1.przetasuj()\n",
    "print(Talia1)\n",
    "print(\"\\nLosowa karta:\")\n",
    "Talia1.rozdaj()\n",
    "print(\"\\nPrzetasowałem talię.\")\n",
    "Talia1.przetasuj()\n",
    "print(Talia1)"
   ]
  },
  {
   "attachments": {},
   "cell_type": "markdown",
   "metadata": {},
   "source": [
    "Zadanie 2\n",
    "1. Napisz klasę Pojazd, która spełnia następujące wymagania:\n",
    "• zawiera pole predkosc max\n",
    "• zawiera pole mileage (ilośc kilometrów, do przejechania na jednym litrze)\n",
    "• wyświetla: (240, 18)"
   ]
  },
  {
   "cell_type": "code",
   "execution_count": 1,
   "metadata": {},
   "outputs": [
    {
     "name": "stdout",
     "output_type": "stream",
     "text": [
      "(240, 18)\n"
     ]
    }
   ],
   "source": [
    "class Pojazd:\n",
    "    def __init__(self, predkosc_max, mileage):\n",
    "        self.predkosc_max = predkosc_max\n",
    "        self.mileage= mileage\n",
    "        \n",
    "    def __str__(self):\n",
    "        return '({}, {})'.format(self.predkosc_max, self.mileage)   \n",
    "\n",
    "        \n",
    "mojPojazd =Pojazd(240, 18)\n",
    "print (mojPojazd)"
   ]
  },
  {
   "attachments": {},
   "cell_type": "markdown",
   "metadata": {},
   "source": [
    "2. Napisz klasę pochodną Bus, która:\n",
    "• zawiera pole nazwa\n",
    "• zawiera pole predkosc max\n",
    "• zawiera pole mileage (ilośc kilometrów, do przejechania na jednym litrze)\n",
    "• wyświetla: (”School Volvo”, 180, 12)"
   ]
  },
  {
   "cell_type": "code",
   "execution_count": 38,
   "metadata": {},
   "outputs": [
    {
     "name": "stdout",
     "output_type": "stream",
     "text": [
      "(School Volvo, 180, 12)\n"
     ]
    }
   ],
   "source": [
    "class Pojazd:\n",
    "    def __init__(self, predkosc_max, mileage):\n",
    "        self.predkosc_max = predkosc_max\n",
    "        self.mileage= mileage\n",
    "        \n",
    "    def __str__(self):\n",
    "        return '({}, {})'.format(self.predkosc_max, self.mileage)   \n",
    "\n",
    "class Bus(Pojazd):\n",
    "    def __init__(self, nazwa, predkosc_max, mileage):\n",
    "        super().__init__(predkosc_max, mileage)\n",
    "        self.nazwa = nazwa\n",
    "    def wyswietl(self):\n",
    "        print((self.nazwa, self.predkosc_max, self.mileage))\n",
    "    def __str__(self):\n",
    "        return '({}, {}, {})'.format(self.nazwa, self.predkosc_max, self.mileage)  \n",
    "    \n",
    "mojBus =Bus(\"School Volvo\", 180, 12)\n",
    "print (mojBus)"
   ]
  },
  {
   "attachments": {},
   "cell_type": "markdown",
   "metadata": {},
   "source": [
    "3. Rozszerz Klasę Bus tak, aby rozszerzyło argumenty o pojemnosc calkowita z wartością domyślną 50"
   ]
  },
  {
   "cell_type": "code",
   "execution_count": 41,
   "metadata": {},
   "outputs": [
    {
     "name": "stdout",
     "output_type": "stream",
     "text": [
      "(School Volvo, 180, 12, 50)\n"
     ]
    }
   ],
   "source": [
    "class Pojazd:\n",
    "    def __init__(self, predkosc_max, mileage):\n",
    "        self.predkosc_max = predkosc_max\n",
    "        self.mileage= mileage\n",
    "        \n",
    "    def __str__(self):\n",
    "        return '({}, {})'.format(self.predkosc_max, self.mileage)   \n",
    "\n",
    "class Bus(Pojazd):\n",
    "    def __init__(self, nazwa, predkosc_max, mileage, pojemnosc=50):\n",
    "        super().__init__(predkosc_max, mileage)\n",
    "        self.nazwa = nazwa\n",
    "        self.pojemnosc = pojemnosc\n",
    "    def __str__(self):\n",
    "        return '({}, {}, {}, {})'.format(self.nazwa, self.predkosc_max, self.mileage, self.pojemnosc)  \n",
    "    \n",
    "mojBus =Bus(\"School Volvo\", 180, 12)\n",
    "print (mojBus)"
   ]
  },
  {
   "attachments": {},
   "cell_type": "markdown",
   "metadata": {},
   "source": [
    "4. Napisz klasę Samochod, która odziedziczy całość parametrów (po klasie Pojazd)"
   ]
  },
  {
   "cell_type": "code",
   "execution_count": 42,
   "metadata": {},
   "outputs": [
    {
     "name": "stdout",
     "output_type": "stream",
     "text": [
      "(240, 18)\n",
      "(240, 18)\n"
     ]
    }
   ],
   "source": [
    "class Pojazd:\n",
    "    def __init__(self, predkosc_max, mileage):\n",
    "        self.predkosc_max = predkosc_max\n",
    "        self.mileage= mileage\n",
    "        \n",
    "    def __str__(self):\n",
    "        return '({}, {})'.format(self.predkosc_max, self.mileage)  \n",
    "\n",
    "class Samochod(Pojazd):\n",
    "    def __init__(self, predkosc_max, mileage):\n",
    "        super().__init__(predkosc_max, mileage)\n",
    "\n",
    "mojPojazd =Pojazd(240, 18)\n",
    "print (mojPojazd)\n",
    "mojSamochod =Samochod(240, 18)\n",
    "print (mojSamochod)"
   ]
  },
  {
   "attachments": {},
   "cell_type": "markdown",
   "metadata": {},
   "source": [
    "5. W klasie Pojazd dodaj atrybut klasowykolor o wartości domyślnej biały, który ma być odziedziczony przez klasy Bus i\n",
    "Samochod. Dopisz (”Audi Q5”, 240. 18) oraz (”School Volvo”, 180, 12)"
   ]
  },
  {
   "cell_type": "code",
   "execution_count": 53,
   "metadata": {},
   "outputs": [
    {
     "name": "stdout",
     "output_type": "stream",
     "text": [
      "(School Volvo, 180, 12)\n",
      "biały\n",
      "(Audi Q5, 240, 80)\n"
     ]
    }
   ],
   "source": [
    "class Pojazd:\n",
    "    kolor = \"biały\"\n",
    "    def __init__(self, predkosc_max, mileage):\n",
    "        self.predkosc_max = predkosc_max\n",
    "        self.mileage= mileage\n",
    "        \n",
    "    def __str__(self):\n",
    "        return '({}, {})'.format(self.predkosc_max, self.mileage)  \n",
    "\n",
    "class Samochod(Pojazd):\n",
    "    def __init__(self, predkosc_max, mileage):\n",
    "        super().__init__(predkosc_max, mileage)\n",
    "\n",
    "class Bus(Pojazd):\n",
    "    def __init__(self, nazwa, predkosc_max, mileage):\n",
    "        super().__init__(predkosc_max, mileage)\n",
    "        self.nazwa = nazwa\n",
    "    def __str__(self):\n",
    "        return '({}, {}, {})'.format(self.nazwa, self.predkosc_max, self.mileage)  \n",
    "    \n",
    "mojBus =Bus(\"School Volvo\", 180, 12)\n",
    "print (mojBus)\n",
    "print(mojBus.kolor)\n",
    "mojBus2 =Bus(\"Audi Q5\", 240, 80)\n",
    "print (mojBus2)\n"
   ]
  },
  {
   "attachments": {},
   "cell_type": "markdown",
   "metadata": {},
   "source": [
    "6. Rozszerz klasę Pojazd w następujący sposób:\n",
    "• dodaj atrybut Opłata, który obliczysz mnożąc liczbę miejsc o 100, a jeśli pojazd jest w klasie Bus, to dodajesz jeszcze\n",
    "10 procent opłaty\n"
   ]
  },
  {
   "cell_type": "code",
   "execution_count": 63,
   "metadata": {},
   "outputs": [
    {
     "name": "stdout",
     "output_type": "stream",
     "text": [
      "(School Volvo, 180, 12)\n",
      "2200.0\n"
     ]
    }
   ],
   "source": [
    "class Pojazd:\n",
    "    def __init__(self, predkosc_max, mileage, liczba_miejsc):\n",
    "        self.predkosc_max = predkosc_max\n",
    "        self.mileage = mileage\n",
    "        self.liczba_miejsc = liczba_miejsc\n",
    "        self.opłata = self.liczba_miejsc * 100\n",
    "\n",
    "        if isinstance(self, Bus):\n",
    "            self.opłata *= 1.1\n",
    "\n",
    "class Bus(Pojazd):\n",
    "    def __init__(self, nazwa, predkosc_max, mileage, liczba_miejsc):\n",
    "        super().__init__(predkosc_max, mileage, liczba_miejsc)\n",
    "        self.nazwa = nazwa\n",
    "        self.liczba_miejsc=liczba_miejsc\n",
    "    def __str__(self):\n",
    "        return '({}, {}, {})'.format(self.nazwa, self.predkosc_max, self.mileage) \n",
    "\n",
    "\n",
    "mojBus =Bus(\"School Volvo\", 180, 12, 20)\n",
    "print (mojBus)\n",
    "opłata = mojBus.opłata\n",
    "print(opłata)"
   ]
  }
 ],
 "metadata": {
  "kernelspec": {
   "display_name": "Python 3 (ipykernel)",
   "language": "python",
   "name": "python3"
  },
  "language_info": {
   "codemirror_mode": {
    "name": "ipython",
    "version": 3
   },
   "file_extension": ".py",
   "mimetype": "text/x-python",
   "name": "python",
   "nbconvert_exporter": "python",
   "pygments_lexer": "ipython3",
   "version": "3.10.9"
  }
 },
 "nbformat": 4,
 "nbformat_minor": 2
}
